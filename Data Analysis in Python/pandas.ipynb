{
 "cells": [
  {
   "cell_type": "markdown",
   "metadata": {},
   "source": [
    "# Pandas - DataFrame and Series"
   ]
  },
  {
   "cell_type": "markdown",
   "metadata": {},
   "source": [
    "Pandas is a powerful data manipulation library in Python, widely used for data-analysis and data cleaning. It provides two main data structures: Series and DataFrame. A Series is a one-dimensional array-like object, while DataFrame is a two-dimensional, size-mutable, and potentially heterogeneous tabular data structure with labeled axis. (rows and columns)"
   ]
  },
  {
   "cell_type": "code",
   "execution_count": 1,
   "metadata": {},
   "outputs": [
    {
     "name": "stdout",
     "output_type": "stream",
     "text": [
      "Defaulting to user installation because normal site-packages is not writeable\n",
      "Requirement already satisfied: pandas in c:\\users\\azim\\appdata\\roaming\\python\\python312\\site-packages (2.2.3)\n",
      "Requirement already satisfied: numpy>=1.26.0 in c:\\users\\azim\\appdata\\roaming\\python\\python312\\site-packages (from pandas) (2.2.3)\n",
      "Requirement already satisfied: python-dateutil>=2.8.2 in c:\\users\\azim\\appdata\\roaming\\python\\python312\\site-packages (from pandas) (2.9.0.post0)\n",
      "Requirement already satisfied: pytz>=2020.1 in c:\\users\\azim\\appdata\\roaming\\python\\python312\\site-packages (from pandas) (2025.1)\n",
      "Requirement already satisfied: tzdata>=2022.7 in c:\\program files\\python312\\lib\\site-packages (from pandas) (2024.1)\n",
      "Requirement already satisfied: six>=1.5 in c:\\users\\azim\\appdata\\roaming\\python\\python312\\site-packages (from python-dateutil>=2.8.2->pandas) (1.16.0)\n",
      "Note: you may need to restart the kernel to use updated packages.\n"
     ]
    },
    {
     "name": "stderr",
     "output_type": "stream",
     "text": [
      "\n",
      "[notice] A new release of pip is available: 24.2 -> 25.0.1\n",
      "[notice] To update, run: python.exe -m pip install --upgrade pip\n"
     ]
    }
   ],
   "source": [
    "%pip install pandas"
   ]
  },
  {
   "cell_type": "code",
   "execution_count": 2,
   "metadata": {},
   "outputs": [],
   "source": [
    "import pandas as pd"
   ]
  },
  {
   "cell_type": "code",
   "execution_count": 3,
   "metadata": {},
   "outputs": [
    {
     "data": {
      "text/plain": [
       "0    1\n",
       "1    2\n",
       "2    3\n",
       "3    4\n",
       "4    5\n",
       "dtype: int64"
      ]
     },
     "execution_count": 3,
     "metadata": {},
     "output_type": "execute_result"
    }
   ],
   "source": [
    "data = [1,2,3,4,5]\n",
    "\n",
    "series = pd.Series(data)\n",
    "series"
   ]
  },
  {
   "cell_type": "code",
   "execution_count": null,
   "metadata": {},
   "outputs": [
    {
     "data": {
      "text/plain": [
       "a    1\n",
       "b    2\n",
       "c    3\n",
       "dtype: int64"
      ]
     },
     "execution_count": 4,
     "metadata": {},
     "output_type": "execute_result"
    }
   ],
   "source": [
    "## Create Series from dictionary (key becomes an index)\n",
    "data = {'a':1, 'b':2, 'c':3}\n",
    "\n",
    "dict_series = pd.Series(data)\n",
    "dict_series"
   ]
  },
  {
   "cell_type": "code",
   "execution_count": null,
   "metadata": {},
   "outputs": [
    {
     "data": {
      "text/plain": [
       "a    10\n",
       "b    20\n",
       "c    30\n",
       "dtype: int64"
      ]
     },
     "execution_count": 5,
     "metadata": {},
     "output_type": "execute_result"
    }
   ],
   "source": [
    "data = [10, 20, 30]\n",
    "index = ['a', 'b', 'c']\n",
    "pd.Series(data=data, index=index)"
   ]
  },
  {
   "cell_type": "markdown",
   "metadata": {},
   "source": [
    "DataFrame"
   ]
  },
  {
   "cell_type": "code",
   "execution_count": null,
   "metadata": {},
   "outputs": [
    {
     "name": "stdout",
     "output_type": "stream",
     "text": [
      "   Name  Age       City\n",
      "0  Azim   19   Tashkent\n",
      "1  Alim   19    Chicago\n",
      "2  Aziz   21  Samarkand\n",
      "<class 'pandas.core.frame.DataFrame'>\n"
     ]
    }
   ],
   "source": [
    "## Create a DataFrame from a dictionary\n",
    "data={\n",
    "    'Name': [\"Azim\", \"Alim\", \"Aziz\"],\n",
    "    'Age': [19, 19, 21],\n",
    "    'City': ['Tashkent', 'Chicago', 'Samarkand']\n",
    "}\n",
    "\n",
    "df = pd.DataFrame(data=data)\n",
    "\n",
    "print(df)\n",
    "print(type(df))"
   ]
  },
  {
   "cell_type": "code",
   "execution_count": 9,
   "metadata": {},
   "outputs": [
    {
     "data": {
      "text/html": [
       "<div>\n",
       "<style scoped>\n",
       "    .dataframe tbody tr th:only-of-type {\n",
       "        vertical-align: middle;\n",
       "    }\n",
       "\n",
       "    .dataframe tbody tr th {\n",
       "        vertical-align: top;\n",
       "    }\n",
       "\n",
       "    .dataframe thead th {\n",
       "        text-align: right;\n",
       "    }\n",
       "</style>\n",
       "<table border=\"1\" class=\"dataframe\">\n",
       "  <thead>\n",
       "    <tr style=\"text-align: right;\">\n",
       "      <th></th>\n",
       "      <th>Name</th>\n",
       "      <th>Age</th>\n",
       "      <th>City</th>\n",
       "    </tr>\n",
       "  </thead>\n",
       "  <tbody>\n",
       "    <tr>\n",
       "      <th>0</th>\n",
       "      <td>Azimjon</td>\n",
       "      <td>19</td>\n",
       "      <td>Tashkent</td>\n",
       "    </tr>\n",
       "    <tr>\n",
       "      <th>1</th>\n",
       "      <td>Bobir</td>\n",
       "      <td>20</td>\n",
       "      <td>New York</td>\n",
       "    </tr>\n",
       "    <tr>\n",
       "      <th>2</th>\n",
       "      <td>Aziz</td>\n",
       "      <td>21</td>\n",
       "      <td>Tashkent</td>\n",
       "    </tr>\n",
       "  </tbody>\n",
       "</table>\n",
       "</div>"
      ],
      "text/plain": [
       "      Name  Age      City\n",
       "0  Azimjon   19  Tashkent\n",
       "1    Bobir   20  New York\n",
       "2     Aziz   21  Tashkent"
      ]
     },
     "execution_count": 9,
     "metadata": {},
     "output_type": "execute_result"
    }
   ],
   "source": [
    "## Create a DataFrame from a list of dictionaries\n",
    "\n",
    "data=[\n",
    "    {'Name': 'Azimjon', 'Age': 19, 'City': 'Tashkent'},\n",
    "    {'Name': 'Bobir', 'Age': 20, 'City': 'New York'},\n",
    "    {'Name': 'Aziz', 'Age': 21, 'City': 'Tashkent'}\n",
    "]\n",
    "\n",
    "df = pd.DataFrame(data=data)\n",
    "df"
   ]
  },
  {
   "cell_type": "code",
   "execution_count": 11,
   "metadata": {},
   "outputs": [
    {
     "data": {
      "text/plain": [
       "pandas.core.series.Series"
      ]
     },
     "execution_count": 11,
     "metadata": {},
     "output_type": "execute_result"
    }
   ],
   "source": [
    "type(df['Name'])"
   ]
  },
  {
   "cell_type": "code",
   "execution_count": 14,
   "metadata": {},
   "outputs": [
    {
     "name": "stderr",
     "output_type": "stream",
     "text": [
      "C:\\Users\\Azim\\AppData\\Local\\Temp\\ipykernel_9544\\2527876973.py:1: FutureWarning: Series.__getitem__ treating keys as positions is deprecated. In a future version, integer keys will always be treated as labels (consistent with DataFrame behavior). To access a value by position, use `ser.iloc[pos]`\n",
      "  df.loc[0][0]\n"
     ]
    },
    {
     "data": {
      "text/plain": [
       "'Azimjon'"
      ]
     },
     "execution_count": 14,
     "metadata": {},
     "output_type": "execute_result"
    }
   ],
   "source": [
    "df.loc[0][0]"
   ]
  },
  {
   "cell_type": "code",
   "execution_count": null,
   "metadata": {},
   "outputs": [
    {
     "name": "stderr",
     "output_type": "stream",
     "text": [
      "C:\\Users\\Azim\\AppData\\Local\\Temp\\ipykernel_9544\\2900375399.py:1: FutureWarning: Series.__getitem__ treating keys as positions is deprecated. In a future version, integer keys will always be treated as labels (consistent with DataFrame behavior). To access a value by position, use `ser.iloc[pos]`\n",
      "  df.iloc[0][0]\n"
     ]
    },
    {
     "data": {
      "text/plain": [
       "'Azimjon'"
      ]
     },
     "execution_count": 16,
     "metadata": {},
     "output_type": "execute_result"
    }
   ],
   "source": [
    "## Index-based access\n",
    "df.iloc[0][0]"
   ]
  },
  {
   "cell_type": "code",
   "execution_count": null,
   "metadata": {},
   "outputs": [
    {
     "data": {
      "text/plain": [
       "np.int64(19)"
      ]
     },
     "execution_count": 18,
     "metadata": {},
     "output_type": "execute_result"
    }
   ],
   "source": [
    "## Accesing a specified element\n",
    "df.at[0, 'Age']"
   ]
  },
  {
   "cell_type": "code",
   "execution_count": 23,
   "metadata": {},
   "outputs": [],
   "source": [
    "df['Salary']=[10000, 4000, 3000]"
   ]
  },
  {
   "cell_type": "code",
   "execution_count": 25,
   "metadata": {},
   "outputs": [],
   "source": [
    "df.drop('Salary', axis=1, inplace=True)"
   ]
  },
  {
   "cell_type": "code",
   "execution_count": 35,
   "metadata": {},
   "outputs": [
    {
     "data": {
      "text/html": [
       "<div>\n",
       "<style scoped>\n",
       "    .dataframe tbody tr th:only-of-type {\n",
       "        vertical-align: middle;\n",
       "    }\n",
       "\n",
       "    .dataframe tbody tr th {\n",
       "        vertical-align: top;\n",
       "    }\n",
       "\n",
       "    .dataframe thead th {\n",
       "        text-align: right;\n",
       "    }\n",
       "</style>\n",
       "<table border=\"1\" class=\"dataframe\">\n",
       "  <thead>\n",
       "    <tr style=\"text-align: right;\">\n",
       "      <th></th>\n",
       "      <th>Name</th>\n",
       "      <th>Age</th>\n",
       "      <th>City</th>\n",
       "    </tr>\n",
       "  </thead>\n",
       "  <tbody>\n",
       "    <tr>\n",
       "      <th>0</th>\n",
       "      <td>Azimjon</td>\n",
       "      <td>26</td>\n",
       "      <td>Tashkent</td>\n",
       "    </tr>\n",
       "    <tr>\n",
       "      <th>1</th>\n",
       "      <td>Bobir</td>\n",
       "      <td>27</td>\n",
       "      <td>New York</td>\n",
       "    </tr>\n",
       "    <tr>\n",
       "      <th>2</th>\n",
       "      <td>Aziz</td>\n",
       "      <td>28</td>\n",
       "      <td>Tashkent</td>\n",
       "    </tr>\n",
       "  </tbody>\n",
       "</table>\n",
       "</div>"
      ],
      "text/plain": [
       "      Name  Age      City\n",
       "0  Azimjon   26  Tashkent\n",
       "1    Bobir   27  New York\n",
       "2     Aziz   28  Tashkent"
      ]
     },
     "execution_count": 35,
     "metadata": {},
     "output_type": "execute_result"
    }
   ],
   "source": [
    "df['Age'] = df['Age'] + 1\n",
    "\n",
    "df"
   ]
  },
  {
   "cell_type": "code",
   "execution_count": 33,
   "metadata": {},
   "outputs": [
    {
     "name": "stdout",
     "output_type": "stream",
     "text": [
      "Data types:\n",
      " Name    object\n",
      "Age      int64\n",
      "City    object\n",
      "dtype: object\n",
      "Statistical summary:\n",
      "         Age\n",
      "count   3.0\n",
      "mean   25.0\n",
      "std     1.0\n",
      "min    24.0\n",
      "25%    24.5\n",
      "50%    25.0\n",
      "75%    25.5\n",
      "max    26.0\n",
      "Mean value by category:\n",
      " Age\n",
      "24    24.0\n",
      "25    25.0\n",
      "26    26.0\n",
      "Name: Age, dtype: float64\n"
     ]
    }
   ],
   "source": [
    "#Describe the types of each column\n",
    "print(\"Data types:\\n\", df.dtypes)\n",
    "\n",
    "#Describe the dataframe\n",
    "print(\"Statistical summary:\\n\", df.describe())\n",
    "\n",
    "#Group by a column and perform an aggregation\n",
    "grouped = df.groupby('Age')['Age'].mean()\n",
    "print(\"Mean value by category:\\n\", grouped)"
   ]
  },
  {
   "cell_type": "code",
   "execution_count": 60,
   "metadata": {},
   "outputs": [
    {
     "data": {
      "text/html": [
       "<div>\n",
       "<style scoped>\n",
       "    .dataframe tbody tr th:only-of-type {\n",
       "        vertical-align: middle;\n",
       "    }\n",
       "\n",
       "    .dataframe tbody tr th {\n",
       "        vertical-align: top;\n",
       "    }\n",
       "\n",
       "    .dataframe thead th {\n",
       "        text-align: right;\n",
       "    }\n",
       "</style>\n",
       "<table border=\"1\" class=\"dataframe\">\n",
       "  <thead>\n",
       "    <tr style=\"text-align: right;\">\n",
       "      <th></th>\n",
       "      <th>Product</th>\n",
       "      <th>Category</th>\n",
       "      <th>Sales</th>\n",
       "    </tr>\n",
       "  </thead>\n",
       "  <tbody>\n",
       "    <tr>\n",
       "      <th>0</th>\n",
       "      <td>iPhone</td>\n",
       "      <td>A</td>\n",
       "      <td>308</td>\n",
       "    </tr>\n",
       "    <tr>\n",
       "      <th>1</th>\n",
       "      <td>MacBook</td>\n",
       "      <td>B</td>\n",
       "      <td>616</td>\n",
       "    </tr>\n",
       "  </tbody>\n",
       "</table>\n",
       "</div>"
      ],
      "text/plain": [
       "   Product Category  Sales\n",
       "0   iPhone        A    308\n",
       "1  MacBook        B    616"
      ]
     },
     "execution_count": 60,
     "metadata": {},
     "output_type": "execute_result"
    }
   ],
   "source": [
    "## fetch the first five rows\n",
    "df.head(2)"
   ]
  },
  {
   "cell_type": "code",
   "execution_count": 61,
   "metadata": {},
   "outputs": [
    {
     "data": {
      "text/html": [
       "<div>\n",
       "<style scoped>\n",
       "    .dataframe tbody tr th:only-of-type {\n",
       "        vertical-align: middle;\n",
       "    }\n",
       "\n",
       "    .dataframe tbody tr th {\n",
       "        vertical-align: top;\n",
       "    }\n",
       "\n",
       "    .dataframe thead th {\n",
       "        text-align: right;\n",
       "    }\n",
       "</style>\n",
       "<table border=\"1\" class=\"dataframe\">\n",
       "  <thead>\n",
       "    <tr style=\"text-align: right;\">\n",
       "      <th></th>\n",
       "      <th>Product</th>\n",
       "      <th>Category</th>\n",
       "      <th>Sales</th>\n",
       "    </tr>\n",
       "  </thead>\n",
       "  <tbody>\n",
       "    <tr>\n",
       "      <th>1</th>\n",
       "      <td>MacBook</td>\n",
       "      <td>B</td>\n",
       "      <td>616</td>\n",
       "    </tr>\n",
       "    <tr>\n",
       "      <th>2</th>\n",
       "      <td>Redmi</td>\n",
       "      <td>C</td>\n",
       "      <td>181</td>\n",
       "    </tr>\n",
       "  </tbody>\n",
       "</table>\n",
       "</div>"
      ],
      "text/plain": [
       "   Product Category  Sales\n",
       "1  MacBook        B    616\n",
       "2    Redmi        C    181"
      ]
     },
     "execution_count": 61,
     "metadata": {},
     "output_type": "execute_result"
    }
   ],
   "source": [
    "df.tail(2)"
   ]
  },
  {
   "cell_type": "code",
   "execution_count": 62,
   "metadata": {},
   "outputs": [
    {
     "data": {
      "text/html": [
       "<div>\n",
       "<style scoped>\n",
       "    .dataframe tbody tr th:only-of-type {\n",
       "        vertical-align: middle;\n",
       "    }\n",
       "\n",
       "    .dataframe tbody tr th {\n",
       "        vertical-align: top;\n",
       "    }\n",
       "\n",
       "    .dataframe thead th {\n",
       "        text-align: right;\n",
       "    }\n",
       "</style>\n",
       "<table border=\"1\" class=\"dataframe\">\n",
       "  <thead>\n",
       "    <tr style=\"text-align: right;\">\n",
       "      <th></th>\n",
       "      <th>Sales</th>\n",
       "    </tr>\n",
       "  </thead>\n",
       "  <tbody>\n",
       "    <tr>\n",
       "      <th>count</th>\n",
       "      <td>3.000000</td>\n",
       "    </tr>\n",
       "    <tr>\n",
       "      <th>mean</th>\n",
       "      <td>368.333333</td>\n",
       "    </tr>\n",
       "    <tr>\n",
       "      <th>std</th>\n",
       "      <td>223.688027</td>\n",
       "    </tr>\n",
       "    <tr>\n",
       "      <th>min</th>\n",
       "      <td>181.000000</td>\n",
       "    </tr>\n",
       "    <tr>\n",
       "      <th>25%</th>\n",
       "      <td>244.500000</td>\n",
       "    </tr>\n",
       "    <tr>\n",
       "      <th>50%</th>\n",
       "      <td>308.000000</td>\n",
       "    </tr>\n",
       "    <tr>\n",
       "      <th>75%</th>\n",
       "      <td>462.000000</td>\n",
       "    </tr>\n",
       "    <tr>\n",
       "      <th>max</th>\n",
       "      <td>616.000000</td>\n",
       "    </tr>\n",
       "  </tbody>\n",
       "</table>\n",
       "</div>"
      ],
      "text/plain": [
       "            Sales\n",
       "count    3.000000\n",
       "mean   368.333333\n",
       "std    223.688027\n",
       "min    181.000000\n",
       "25%    244.500000\n",
       "50%    308.000000\n",
       "75%    462.000000\n",
       "max    616.000000"
      ]
     },
     "execution_count": 62,
     "metadata": {},
     "output_type": "execute_result"
    }
   ],
   "source": [
    "df.describe()"
   ]
  },
  {
   "cell_type": "code",
   "execution_count": 63,
   "metadata": {},
   "outputs": [
    {
     "data": {
      "text/plain": [
       "Product     object\n",
       "Category    object\n",
       "Sales        int32\n",
       "dtype: object"
      ]
     },
     "execution_count": 63,
     "metadata": {},
     "output_type": "execute_result"
    }
   ],
   "source": [
    "df.dtypes"
   ]
  },
  {
   "cell_type": "code",
   "execution_count": 66,
   "metadata": {},
   "outputs": [
    {
     "data": {
      "text/plain": [
       "Product     False\n",
       "Category    False\n",
       "Sales       False\n",
       "dtype: bool"
      ]
     },
     "execution_count": 66,
     "metadata": {},
     "output_type": "execute_result"
    }
   ],
   "source": [
    "## Handling missing values\n",
    "df.isnull().any()"
   ]
  },
  {
   "cell_type": "code",
   "execution_count": 71,
   "metadata": {},
   "outputs": [
    {
     "data": {
      "text/html": [
       "<div>\n",
       "<style scoped>\n",
       "    .dataframe tbody tr th:only-of-type {\n",
       "        vertical-align: middle;\n",
       "    }\n",
       "\n",
       "    .dataframe tbody tr th {\n",
       "        vertical-align: top;\n",
       "    }\n",
       "\n",
       "    .dataframe thead th {\n",
       "        text-align: right;\n",
       "    }\n",
       "</style>\n",
       "<table border=\"1\" class=\"dataframe\">\n",
       "  <thead>\n",
       "    <tr style=\"text-align: right;\">\n",
       "      <th></th>\n",
       "      <th>Title</th>\n",
       "      <th>Category</th>\n",
       "      <th>Sales</th>\n",
       "    </tr>\n",
       "  </thead>\n",
       "  <tbody>\n",
       "    <tr>\n",
       "      <th>0</th>\n",
       "      <td>iPhone</td>\n",
       "      <td>A</td>\n",
       "      <td>308</td>\n",
       "    </tr>\n",
       "    <tr>\n",
       "      <th>1</th>\n",
       "      <td>MacBook</td>\n",
       "      <td>B</td>\n",
       "      <td>616</td>\n",
       "    </tr>\n",
       "    <tr>\n",
       "      <th>2</th>\n",
       "      <td>Redmi</td>\n",
       "      <td>C</td>\n",
       "      <td>181</td>\n",
       "    </tr>\n",
       "  </tbody>\n",
       "</table>\n",
       "</div>"
      ],
      "text/plain": [
       "     Title Category  Sales\n",
       "0   iPhone        A    308\n",
       "1  MacBook        B    616\n",
       "2    Redmi        C    181"
      ]
     },
     "execution_count": 71,
     "metadata": {},
     "output_type": "execute_result"
    }
   ],
   "source": [
    "## Renaming columns\n",
    "df = df.rename(columns={'Product':'Title'})\n",
    "df"
   ]
  },
  {
   "cell_type": "code",
   "execution_count": 74,
   "metadata": {},
   "outputs": [
    {
     "data": {
      "text/html": [
       "<div>\n",
       "<style scoped>\n",
       "    .dataframe tbody tr th:only-of-type {\n",
       "        vertical-align: middle;\n",
       "    }\n",
       "\n",
       "    .dataframe tbody tr th {\n",
       "        vertical-align: top;\n",
       "    }\n",
       "\n",
       "    .dataframe thead th {\n",
       "        text-align: right;\n",
       "    }\n",
       "</style>\n",
       "<table border=\"1\" class=\"dataframe\">\n",
       "  <thead>\n",
       "    <tr style=\"text-align: right;\">\n",
       "      <th></th>\n",
       "      <th>Title</th>\n",
       "      <th>Category</th>\n",
       "      <th>Sales</th>\n",
       "      <th>new_value</th>\n",
       "    </tr>\n",
       "  </thead>\n",
       "  <tbody>\n",
       "    <tr>\n",
       "      <th>0</th>\n",
       "      <td>iPhone</td>\n",
       "      <td>A</td>\n",
       "      <td>308</td>\n",
       "      <td>308.0</td>\n",
       "    </tr>\n",
       "    <tr>\n",
       "      <th>1</th>\n",
       "      <td>MacBook</td>\n",
       "      <td>B</td>\n",
       "      <td>616</td>\n",
       "      <td>616.0</td>\n",
       "    </tr>\n",
       "    <tr>\n",
       "      <th>2</th>\n",
       "      <td>Redmi</td>\n",
       "      <td>C</td>\n",
       "      <td>181</td>\n",
       "      <td>181.0</td>\n",
       "    </tr>\n",
       "  </tbody>\n",
       "</table>\n",
       "</div>"
      ],
      "text/plain": [
       "     Title Category  Sales  new_value\n",
       "0   iPhone        A    308      308.0\n",
       "1  MacBook        B    616      616.0\n",
       "2    Redmi        C    181      181.0"
      ]
     },
     "execution_count": 74,
     "metadata": {},
     "output_type": "execute_result"
    }
   ],
   "source": [
    "## Change datatypes\n",
    "df['new_value'] = df['Sales'].astype(float)\n",
    "\n",
    "df"
   ]
  },
  {
   "cell_type": "markdown",
   "metadata": {},
   "source": [
    "Assignment 1: DataFrame Creation and Indexing\n",
    "\n",
    "1. Create a Pandas DataFrame with 4 columns and 6 rows filled with random integers. Set the index to be the first column.\n",
    "2. Create a Pandas DataFrame with columns 'A', 'B', 'C' and index 'X', 'Y', 'Z'. Fill the DataFrame with random integers and access the element at row 'Y' and column 'B'."
   ]
  },
  {
   "cell_type": "code",
   "execution_count": 3,
   "metadata": {},
   "outputs": [],
   "source": [
    "import numpy as np\n",
    "import pandas as pd\n",
    "\n",
    "df = pd.DataFrame(np.random.randint(1, 101, size=(6, 4)), columns=['ID', 'A', 'B', 'C'])\n",
    "\n",
    "df.set_index('ID', inplace=True)"
   ]
  },
  {
   "cell_type": "code",
   "execution_count": 4,
   "metadata": {},
   "outputs": [
    {
     "name": "stdout",
     "output_type": "stream",
     "text": [
      "DataFrame:\n",
      "    A   B   C\n",
      "X  84  18  39\n",
      "Y  87   1  47\n",
      "Z   1  66  73\n",
      "\n",
      "Element at row 'Y' and column 'B': 1\n"
     ]
    }
   ],
   "source": [
    "df = pd.DataFrame(\n",
    "    np.random.randint(1, 101, size=(3, 3)),  # random integers from 1 to 100\n",
    "    columns=['A', 'B', 'C'],\n",
    "    index=['X', 'Y', 'Z']\n",
    ")\n",
    "\n",
    "# Access the element at row 'Y' and column 'B'\n",
    "value = df.loc['Y', 'B']\n",
    "\n",
    "# Print the DataFrame and the value\n",
    "print(\"DataFrame:\")\n",
    "print(df)\n",
    "print(\"\\nElement at row 'Y' and column 'B':\", value)"
   ]
  },
  {
   "cell_type": "markdown",
   "metadata": {},
   "source": [
    "Assignment 2: DataFrame Operations\n",
    "\n",
    "1. Create a Pandas DataFrame with 3 columns and 5 rows filled with random integers. Add a new column that is the product of the first two columns.\n",
    "2. Create a Pandas DataFrame with 3 columns and 4 rows filled with random integers. Compute the row-wise and column-wise sum."
   ]
  },
  {
   "cell_type": "code",
   "execution_count": 9,
   "metadata": {},
   "outputs": [
    {
     "data": {
      "text/html": [
       "<div>\n",
       "<style scoped>\n",
       "    .dataframe tbody tr th:only-of-type {\n",
       "        vertical-align: middle;\n",
       "    }\n",
       "\n",
       "    .dataframe tbody tr th {\n",
       "        vertical-align: top;\n",
       "    }\n",
       "\n",
       "    .dataframe thead th {\n",
       "        text-align: right;\n",
       "    }\n",
       "</style>\n",
       "<table border=\"1\" class=\"dataframe\">\n",
       "  <thead>\n",
       "    <tr style=\"text-align: right;\">\n",
       "      <th></th>\n",
       "      <th>0</th>\n",
       "      <th>1</th>\n",
       "      <th>2</th>\n",
       "      <th>product_of_last_two_columns</th>\n",
       "    </tr>\n",
       "  </thead>\n",
       "  <tbody>\n",
       "    <tr>\n",
       "      <th>0</th>\n",
       "      <td>68</td>\n",
       "      <td>79</td>\n",
       "      <td>28</td>\n",
       "      <td>2212</td>\n",
       "    </tr>\n",
       "    <tr>\n",
       "      <th>1</th>\n",
       "      <td>44</td>\n",
       "      <td>-75</td>\n",
       "      <td>-33</td>\n",
       "      <td>2475</td>\n",
       "    </tr>\n",
       "    <tr>\n",
       "      <th>2</th>\n",
       "      <td>57</td>\n",
       "      <td>-66</td>\n",
       "      <td>55</td>\n",
       "      <td>-3630</td>\n",
       "    </tr>\n",
       "    <tr>\n",
       "      <th>3</th>\n",
       "      <td>-40</td>\n",
       "      <td>32</td>\n",
       "      <td>63</td>\n",
       "      <td>2016</td>\n",
       "    </tr>\n",
       "    <tr>\n",
       "      <th>4</th>\n",
       "      <td>15</td>\n",
       "      <td>58</td>\n",
       "      <td>-32</td>\n",
       "      <td>-1856</td>\n",
       "    </tr>\n",
       "  </tbody>\n",
       "</table>\n",
       "</div>"
      ],
      "text/plain": [
       "    0   1   2  product_of_last_two_columns\n",
       "0  68  79  28                         2212\n",
       "1  44 -75 -33                         2475\n",
       "2  57 -66  55                        -3630\n",
       "3 -40  32  63                         2016\n",
       "4  15  58 -32                        -1856"
      ]
     },
     "execution_count": 9,
     "metadata": {},
     "output_type": "execute_result"
    }
   ],
   "source": [
    "df = pd.DataFrame(\n",
    "    np.random.randint(-100, 100, size=(5,3))\n",
    ")\n",
    "\n",
    "df['product_of_last_two_columns'] = df[1] * df[2]\n",
    "\n",
    "df"
   ]
  },
  {
   "cell_type": "code",
   "execution_count": 15,
   "metadata": {},
   "outputs": [
    {
     "name": "stdout",
     "output_type": "stream",
     "text": [
      "    0   1   2\n",
      "0  24 -45  -1\n",
      "1  90 -83  58\n",
      "2  99 -94   6\n",
      "3   8  67  45\n",
      "column-wise sum\n",
      " 0    221\n",
      "1   -155\n",
      "2    108\n",
      "dtype: int64\n",
      "row-wise sum\n",
      " 0    -22\n",
      "1     65\n",
      "2     11\n",
      "3    120\n",
      "dtype: int64\n"
     ]
    }
   ],
   "source": [
    "df = pd.DataFrame(\n",
    "    np.random.randint(-100, 100, size=(4,3))\n",
    ")\n",
    "\n",
    "print(df)\n",
    "print(\"column-wise sum\\n\", df.sum(axis=0))\n",
    "print(\"row-wise sum\\n\", df.sum(axis=1))"
   ]
  },
  {
   "cell_type": "markdown",
   "metadata": {},
   "source": [
    "Assignment 3: Data Cleaning\n",
    "\n",
    "1. Create a Pandas DataFrame with 3 columns and 5 rows filled with random integers. Introduce some NaN values. Fill the NaN values with the mean of the respective columns.\n",
    "2. Create a Pandas DataFrame with 4 columns and 6 rows filled with random integers. Introduce some NaN values. Drop the rows with any NaN values."
   ]
  },
  {
   "cell_type": "code",
   "execution_count": 22,
   "metadata": {},
   "outputs": [
    {
     "name": "stdout",
     "output_type": "stream",
     "text": [
      "DF with nan:\n",
      "       0     1     2\n",
      "0  57.0  45.0 -63.0\n",
      "1 -14.0   NaN  38.0\n",
      "2  67.0  83.0   NaN\n",
      "3  37.0 -67.0 -55.0\n",
      "4   NaN  77.0 -13.0\n",
      "DF with filled nan:\n",
      "        0     1      2\n",
      "0  57.00  45.0 -63.00\n",
      "1 -14.00  34.5  38.00\n",
      "2  67.00  83.0 -23.25\n",
      "3  37.00 -67.0 -55.00\n",
      "4  36.75  77.0 -13.00\n"
     ]
    }
   ],
   "source": [
    "df = pd.DataFrame(\n",
    "    np.random.randint(-100, 100, size=(5, 3))\n",
    ")\n",
    "\n",
    "df.loc[1, 1] = np.nan\n",
    "df.loc[2, 2] = np.nan\n",
    "df.loc[4, 0] = np.nan\n",
    "\n",
    "print(\"DF with nan:\\n\", df)\n",
    "\n",
    "df.fillna(df.mean(), inplace=True)\n",
    "\n",
    "print(\"DF with filled nan:\\n\", df)"
   ]
  },
  {
   "cell_type": "code",
   "execution_count": 29,
   "metadata": {},
   "outputs": [
    {
     "name": "stdout",
     "output_type": "stream",
     "text": [
      "DF with nan:\n",
      "       0     1      2\n",
      "0   0.0  11.0   85.0\n",
      "1  23.0   NaN   60.0\n",
      "2  90.0 -96.0    NaN\n",
      "3  31.0  98.0   31.0\n",
      "4   NaN -56.0 -100.0\n",
      "DF without nan:\n",
      "       0     1     2\n",
      "0   0.0  11.0  85.0\n",
      "3  31.0  98.0  31.0\n"
     ]
    }
   ],
   "source": [
    "df = pd.DataFrame(\n",
    "    np.random.randint(-100, 100, size=(5, 3))\n",
    ")\n",
    "\n",
    "df.loc[1, 1] = np.nan\n",
    "df.loc[2, 2] = np.nan\n",
    "df.loc[4, 0] = np.nan\n",
    "\n",
    "print(\"DF with nan:\\n\", df)\n",
    "\n",
    "df.dropna(how='any', inplace=True)\n",
    "\n",
    "print(\"DF without nan:\\n\", df)\n"
   ]
  },
  {
   "cell_type": "markdown",
   "metadata": {},
   "source": [
    "Assignment 4: Data Aggregation\n",
    "\n",
    "1. Create a Pandas DataFrame with 2 columns: 'Category' and 'Value'. Fill the 'Category' column with random categories ('A', 'B', 'C') and the 'Value' column with random integers. Group the DataFrame by 'Category' and compute the sum and mean of 'Value' for each category.\n",
    "2. Create a Pandas DataFrame with 3 columns: 'Product', 'Category', and 'Sales'. Fill the DataFrame with random data. Group the DataFrame by 'Category' and compute the total sales for each category."
   ]
  },
  {
   "cell_type": "code",
   "execution_count": 44,
   "metadata": {},
   "outputs": [
    {
     "name": "stdout",
     "output_type": "stream",
     "text": [
      "  Category  Value\n",
      "0        A      7\n",
      "1        B      3\n",
      "2        C      8\n",
      "Category\n",
      "A    7.0\n",
      "B    3.0\n",
      "C    8.0\n",
      "Name: Value, dtype: float64\n"
     ]
    }
   ],
   "source": [
    "df = pd.DataFrame({\n",
    "    'Category': ['A', 'B', 'C'],\n",
    "    'Value': np.random.randint(-10, 10, size=3)\n",
    "})\n",
    "\n",
    "print(df)\n",
    "\n",
    "grouped = df.groupby('Category')['Value'].mean()\n",
    "\n",
    "print(grouped)"
   ]
  },
  {
   "cell_type": "code",
   "execution_count": 52,
   "metadata": {},
   "outputs": [
    {
     "name": "stdout",
     "output_type": "stream",
     "text": [
      "   Product Category  Sales\n",
      "0   iPhone        A    308\n",
      "1  MacBook        B    616\n",
      "2    Redmi        C    181\n"
     ]
    },
    {
     "data": {
      "text/plain": [
       "Category\n",
       "A    308\n",
       "B    616\n",
       "C    181\n",
       "Name: Sales, dtype: int32"
      ]
     },
     "execution_count": 52,
     "metadata": {},
     "output_type": "execute_result"
    }
   ],
   "source": [
    "df = pd.DataFrame({\n",
    "    'Product': ['iPhone', 'MacBook', 'Redmi'],\n",
    "    'Category': ['A', 'B', 'C'],\n",
    "    'Sales': np.random.randint(0, 1000, size=3)\n",
    "})\n",
    "\n",
    "print(df)\n",
    "\n",
    "df.groupby('Category')['Sales'].sum()"
   ]
  },
  {
   "cell_type": "markdown",
   "metadata": {},
   "source": [
    "Assignment 5: Merging DataFrames\n",
    "\n",
    "1. Create two Pandas DataFrames with a common column. Merge the DataFrames using the common column.\n",
    "2. Create two Pandas DataFrames with different columns. Concatenate the DataFrames along the rows and along the columns."
   ]
  },
  {
   "cell_type": "code",
   "execution_count": 56,
   "metadata": {},
   "outputs": [
    {
     "name": "stdout",
     "output_type": "stream",
     "text": [
      "   Sales  Product  Production_year\n",
      "0    200   iPhone             2022\n",
      "1    521  MacBook             2024\n",
      "2    881     iPad             2023\n",
      "3    363     Book             1998\n",
      "4    809  Samsung             2025\n",
      "   Ranking  Product\n",
      "0        2   iPhone\n",
      "1        3  MacBook\n",
      "2        3     iPad\n",
      "3        3     Book\n",
      "4        1  Samsung\n",
      "   Sales  Product  Production_year  Ranking\n",
      "0    200   iPhone             2022        2\n",
      "1    521  MacBook             2024        3\n",
      "2    881     iPad             2023        3\n",
      "3    363     Book             1998        3\n",
      "4    809  Samsung             2025        1\n"
     ]
    }
   ],
   "source": [
    "df1 = pd.DataFrame({\n",
    "    'Sales': np.random.randint(100, 1000, size=5),\n",
    "    'Product': ['iPhone', 'MacBook', 'iPad', 'Book', 'Samsung'],\n",
    "    'Production_year': [2022, 2024, 2023, 1998, 2025]\n",
    "})\n",
    "\n",
    "print(df1)\n",
    "\n",
    "df2 = pd.DataFrame({\n",
    "    'Ranking': np.random.randint(0, 5, size=5),\n",
    "    'Product': ['iPhone', 'MacBook', 'iPad', 'Book', 'Samsung'],\n",
    "})\n",
    "\n",
    "print(df2)\n",
    "\n",
    "merged_df = pd.merge(df1, df2, on='Product')\n",
    "\n",
    "print(merged_df)\n"
   ]
  },
  {
   "cell_type": "code",
   "execution_count": 57,
   "metadata": {},
   "outputs": [
    {
     "name": "stdout",
     "output_type": "stream",
     "text": [
      "Concatenated along rows (vertically):\n",
      "      A    B    C     D\n",
      "0  1.0  4.0  NaN   NaN\n",
      "1  2.0  5.0  NaN   NaN\n",
      "2  3.0  6.0  NaN   NaN\n",
      "3  NaN  NaN  7.0  10.0\n",
      "4  NaN  NaN  8.0  11.0\n",
      "5  NaN  NaN  9.0  12.0\n",
      "\n",
      "Concatenated along columns (horizontally):\n",
      "    A  B  C   D\n",
      "0  1  4  7  10\n",
      "1  2  5  8  11\n",
      "2  3  6  9  12\n"
     ]
    }
   ],
   "source": [
    "df1 = pd.DataFrame({\n",
    "    'A': [1, 2, 3],\n",
    "    'B': [4, 5, 6]\n",
    "})\n",
    "\n",
    "df2 = pd.DataFrame({\n",
    "    'C': [7, 8, 9],\n",
    "    'D': [10, 11, 12]\n",
    "})\n",
    "\n",
    "# Concatenate along the rows (vertically)\n",
    "concat_rows = pd.concat([df1, df2], axis=0, ignore_index=True)\n",
    "\n",
    "# Concatenate along the columns (horizontally)\n",
    "concat_columns = pd.concat([df1, df2], axis=1)\n",
    "\n",
    "print(\"Concatenated along rows (vertically):\\n\", concat_rows)\n",
    "print(\"\\nConcatenated along columns (horizontally):\\n\", concat_columns)"
   ]
  },
  {
   "cell_type": "markdown",
   "metadata": {},
   "source": [
    "Assignment 6: Time Series Analysis\n",
    "\n",
    "1. Create a Pandas DataFrame with a datetime index and one column filled with random integers. Resample the DataFrame to compute the monthly mean of the values.\n",
    "2. Create a Pandas DataFrame with a datetime index ranging from '2021-01-01' to '2021-12-31' and one column filled with random integers. Compute the rolling mean with a window of 7 days."
   ]
  },
  {
   "cell_type": "code",
   "execution_count": 2,
   "metadata": {},
   "outputs": [
    {
     "name": "stdout",
     "output_type": "stream",
     "text": [
      "                value\n",
      "2024-01-31  46.580645\n",
      "2024-02-29  62.793103\n",
      "2024-03-31  54.161290\n",
      "2024-04-30  46.700000\n",
      "2024-05-31  53.709677\n",
      "2024-06-30  60.500000\n",
      "2024-07-31  49.645161\n",
      "2024-08-31  48.000000\n",
      "2024-09-30  51.800000\n",
      "2024-10-31  46.612903\n",
      "2024-11-30  47.166667\n",
      "2024-12-31  57.838710\n"
     ]
    }
   ],
   "source": [
    "import pandas as pd\n",
    "import numpy as np\n",
    "\n",
    "date_index = pd.date_range(start=\"2024-01-01\", end=\"2024-12-31\", freq='D')\n",
    "\n",
    "df = pd.DataFrame({\n",
    "    'value': np.random.randint(0, 101, size=len(date_index))\n",
    "}, index=date_index)\n",
    "\n",
    "# Resample to monthly mean\n",
    "monthly_mean = df.resample('ME').mean()\n",
    "\n",
    "print(monthly_mean)"
   ]
  },
  {
   "cell_type": "code",
   "execution_count": 4,
   "metadata": {},
   "outputs": [
    {
     "name": "stdout",
     "output_type": "stream",
     "text": [
      "                 value\n",
      "2021-01-03  703.000000\n",
      "2021-01-10  601.000000\n",
      "2021-01-17  421.428571\n",
      "2021-01-24  504.571429\n",
      "2021-01-31  490.428571\n",
      "2021-02-07  534.142857\n",
      "2021-02-14  573.428571\n",
      "2021-02-21  540.142857\n",
      "2021-02-28  558.714286\n",
      "2021-03-07  389.714286\n",
      "2021-03-14  506.285714\n",
      "2021-03-21  493.857143\n",
      "2021-03-28  367.428571\n",
      "2021-04-04  522.857143\n",
      "2021-04-11  570.142857\n",
      "2021-04-18  706.285714\n",
      "2021-04-25  608.428571\n",
      "2021-05-02  592.000000\n",
      "2021-05-09  414.857143\n",
      "2021-05-16  770.428571\n",
      "2021-05-23  549.285714\n",
      "2021-05-30  657.000000\n",
      "2021-06-06  492.857143\n",
      "2021-06-13  498.857143\n",
      "2021-06-20  520.571429\n",
      "2021-06-27  660.857143\n",
      "2021-07-04  550.000000\n",
      "2021-07-11  591.428571\n",
      "2021-07-18  455.428571\n",
      "2021-07-25  555.571429\n",
      "2021-08-01  615.285714\n",
      "2021-08-08  658.428571\n",
      "2021-08-15  354.285714\n",
      "2021-08-22  527.714286\n",
      "2021-08-29  444.857143\n",
      "2021-09-05  552.000000\n",
      "2021-09-12  588.714286\n",
      "2021-09-19  448.428571\n",
      "2021-09-26  768.285714\n",
      "2021-10-03  652.142857\n",
      "2021-10-10  546.571429\n",
      "2021-10-17  477.142857\n",
      "2021-10-24  432.857143\n",
      "2021-10-31  598.857143\n",
      "2021-11-07  479.000000\n",
      "2021-11-14  485.000000\n",
      "2021-11-21  593.285714\n",
      "2021-11-28  654.142857\n",
      "2021-12-05  472.000000\n",
      "2021-12-12  565.714286\n",
      "2021-12-19  480.285714\n",
      "2021-12-26  680.571429\n",
      "2022-01-02  717.200000\n"
     ]
    }
   ],
   "source": [
    "date_index = pd.date_range(start=\"2021-01-01\", end=\"2021-12-31\", freq=\"D\")\n",
    "\n",
    "df = pd.DataFrame({\n",
    "    'value': np.random.randint(100, 1000, size=len(date_index))\n",
    "}, index=date_index)\n",
    "\n",
    "weekly_mean = df.resample(\"W\").mean()\n",
    "\n",
    "print(weekly_mean)"
   ]
  },
  {
   "cell_type": "markdown",
   "metadata": {},
   "source": [
    "Assignment 7: MultiIndex DataFrame\n",
    "\n",
    "1. Create a Pandas DataFrame with a MultiIndex (hierarchical index). Perform some basic indexing and slicing operations on the MultiIndex DataFrame.\n",
    "2. Create a Pandas DataFrame with MultiIndex consisting of 'Category' and 'SubCategory'. Fill the DataFrame with random data and compute the sum of values for each 'Category' and 'SubCategory'."
   ]
  },
  {
   "cell_type": "code",
   "execution_count": 8,
   "metadata": {},
   "outputs": [
    {
     "name": "stdout",
     "output_type": "stream",
     "text": [
      "Original DataFrame:\n",
      "              Sales  Profit\n",
      "Region Year               \n",
      "North  2021   2810     453\n",
      "       2022   3386     474\n",
      "South  2021   4331     401\n",
      "       2022   1844     355\n",
      "East   2021   3377     495\n",
      "       2022   2877     482\n",
      "West   2021   2668     112\n",
      "       2022   2203     127\n",
      "\n",
      "Sales data for 'South' in 2021:\n",
      " Sales     4331\n",
      "Profit     401\n",
      "Name: (South, 2021), dtype: int32\n"
     ]
    }
   ],
   "source": [
    "arrays = [\n",
    "    ['North', 'North', 'South', 'South', 'East', 'East', 'West', 'West'],\n",
    "    ['2021', '2022', '2021', '2022', '2021', '2022', '2021', '2022']\n",
    "]\n",
    "index = pd.MultiIndex.from_arrays(arrays, names=('Region', 'Year'))\n",
    "\n",
    "# Create the DataFrame\n",
    "df = pd.DataFrame({\n",
    "    'Sales': np.random.randint(1000, 5000, size=8),\n",
    "    'Profit': np.random.randint(100, 500, size=8)\n",
    "}, index=index)\n",
    "\n",
    "print(\"Original DataFrame:\\n\", df)\n",
    "\n",
    "print(\"\\nSales data for 'South' in 2021:\\n\", df.loc[('South', '2021')])\n"
   ]
  },
  {
   "cell_type": "code",
   "execution_count": 1,
   "metadata": {},
   "outputs": [
    {
     "name": "stdout",
     "output_type": "stream",
     "text": [
      "Original DataFrame:\n",
      "                          Sales  Profit\n",
      "Category    SubCategory               \n",
      "Electronics Phones        4454     821\n",
      "            Laptops       3849     293\n",
      "Clothing    Men           4953     181\n",
      "            Women         2995     922\n",
      "Food        Snacks        3141     622\n",
      "            Beverages     3348     669\n"
     ]
    }
   ],
   "source": [
    "import pandas as pd\n",
    "import numpy as np\n",
    "\n",
    "categories = ['Electronics', 'Electronics', 'Clothing', 'Clothing', 'Food', 'Food']\n",
    "subcategories = ['Phones', 'Laptops', 'Men', 'Women', 'Snacks', 'Beverages']\n",
    "index = pd.MultiIndex.from_arrays([categories, subcategories], names=('Category', 'SubCategory'))\n",
    "\n",
    "df = pd.DataFrame({\n",
    "    'Sales': np.random.randint(1000, 5000, size=6),\n",
    "    'Profit': np.random.randint(100, 1000, size=6)\n",
    "}, index=index)\n",
    "\n",
    "print(\"Original DataFrame:\\n\", df)"
   ]
  },
  {
   "cell_type": "markdown",
   "metadata": {},
   "source": [
    "Assignment 8: Pivot Tables\n",
    "\n",
    "1. Create a Pandas DataFrame with columns 'Date', 'Category', and 'Value'. Create a pivot table to compute the sum of 'Value' for each 'Category' by 'Date'.\n",
    "2. Create a Pandas DataFrame with columns 'Year', 'Quarter', and 'Revenue'. Create a pivot table to compute the mean 'Revenue' for each 'Quarter' by 'Year'."
   ]
  },
  {
   "cell_type": "code",
   "execution_count": 4,
   "metadata": {},
   "outputs": [
    {
     "name": "stdout",
     "output_type": "stream",
     "text": [
      "         Date Category  Value\n",
      "0  2024-01-01        A    100\n",
      "1  2024-01-01        B    200\n",
      "2  2024-01-02        A    150\n",
      "Category      A    B\n",
      "Date                \n",
      "2024-01-01  100  200\n",
      "2024-01-02  150    0\n"
     ]
    }
   ],
   "source": [
    "df = pd.DataFrame({\n",
    "    'Date': ['2024-01-01', '2024-01-01', '2024-01-02'],\n",
    "    'Category': ['A', 'B', 'A'],\n",
    "    'Value': [100, 200, 150]\n",
    "})\n",
    "\n",
    "print(df)\n",
    "\n",
    "# Pivot Table\n",
    "pivot = pd.pivot_table(df, values='Value', index='Date', columns='Category', aggfunc='sum', fill_value=0)\n",
    "\n",
    "print(pivot)"
   ]
  },
  {
   "cell_type": "code",
   "execution_count": 5,
   "metadata": {},
   "outputs": [
    {
     "name": "stdout",
     "output_type": "stream",
     "text": [
      "Original DataFrame:\n",
      "    Year Quarter  Revenue\n",
      "0  2020      Q1     5875\n",
      "1  2020      Q2     8944\n",
      "2  2020      Q3     5831\n",
      "3  2021      Q1     5440\n",
      "4  2021      Q2     4860\n",
      "5  2021      Q3     3926\n",
      "6  2022      Q1     4795\n",
      "7  2022      Q2     3768\n",
      "8  2022      Q3     7710\n",
      "\n",
      "Pivot Table (Mean Revenue by Quarter and Year):\n",
      " Quarter      Q1      Q2      Q3\n",
      "Year                           \n",
      "2020     5875.0  8944.0  5831.0\n",
      "2021     5440.0  4860.0  3926.0\n",
      "2022     4795.0  3768.0  7710.0\n"
     ]
    }
   ],
   "source": [
    "data = {\n",
    "    'Year': [2020, 2020, 2020, 2021, 2021, 2021, 2022, 2022, 2022],\n",
    "    'Quarter': ['Q1', 'Q2', 'Q3', 'Q1', 'Q2', 'Q3', 'Q1', 'Q2', 'Q3'],\n",
    "    'Revenue': np.random.randint(1000, 10000, size=9)  # Random revenues between 1000 and 10000\n",
    "}\n",
    "\n",
    "# Create DataFrame\n",
    "df = pd.DataFrame(data)\n",
    "\n",
    "print(\"Original DataFrame:\\n\", df)\n",
    "\n",
    "pivot = pd.pivot_table(df, \n",
    "                       values='Revenue', \n",
    "                       index='Year', \n",
    "                       columns='Quarter', \n",
    "                       aggfunc='mean', \n",
    "                       fill_value=0)\n",
    "\n",
    "print(\"\\nPivot Table (Mean Revenue by Quarter and Year):\\n\", pivot)\n"
   ]
  },
  {
   "cell_type": "markdown",
   "metadata": {},
   "source": [
    "Assignment 9: Applying Functions\n",
    "\n",
    "1. Create a Pandas DataFrame with 3 columns and 5 rows filled with random integers. Apply a function that doubles the values of the DataFrame.\n",
    "2. Create a Pandas DataFrame with 3 columns and 6 rows filled with random integers. Apply a lambda function to create a new column that is the sum of the existing columns."
   ]
  },
  {
   "cell_type": "code",
   "execution_count": 7,
   "metadata": {},
   "outputs": [
    {
     "name": "stdout",
     "output_type": "stream",
     "text": [
      "Original DataFrame:\n",
      "    A  B  C\n",
      "0  9  5  9\n",
      "1  8  8  7\n",
      "2  7  2  2\n",
      "3  6  6  3\n",
      "4  4  5  2\n",
      "\n",
      "DataFrame with Doubled Values:\n",
      "     A   B   C\n",
      "0  18  10  18\n",
      "1  16  16  14\n",
      "2  14   4   4\n",
      "3  12  12   6\n",
      "4   8  10   4\n"
     ]
    }
   ],
   "source": [
    "import pandas as pd\n",
    "import numpy as np\n",
    "\n",
    "# Create a DataFrame with random integers\n",
    "df = pd.DataFrame(np.random.randint(1, 10, size=(5, 3)), columns=['A', 'B', 'C'])\n",
    "\n",
    "print(\"Original DataFrame:\\n\", df)\n",
    "\n",
    "# Apply a function to double the values\n",
    "df_doubled = df.map(lambda x: x * 2)\n",
    "\n",
    "print(\"\\nDataFrame with Doubled Values:\\n\", df_doubled)"
   ]
  },
  {
   "cell_type": "markdown",
   "metadata": {},
   "source": [
    "Assignment 10: Working with Text Data\n",
    "\n",
    "1. Create a Pandas Series with 5 random text strings. Convert all the strings to uppercase.\n",
    "2. Create a Pandas Series with 5 random text strings. Extract the first three characters of each string."
   ]
  },
  {
   "cell_type": "code",
   "execution_count": 9,
   "metadata": {},
   "outputs": [
    {
     "name": "stdout",
     "output_type": "stream",
     "text": [
      "Original Series:\n",
      " 0         apple\n",
      "1        banana\n",
      "2        cherry\n",
      "3          date\n",
      "4    elderberry\n",
      "dtype: object\n",
      "\n",
      "Series with Uppercase Strings:\n",
      " 0         APPLE\n",
      "1        BANANA\n",
      "2        CHERRY\n",
      "3          DATE\n",
      "4    ELDERBERRY\n",
      "dtype: object\n"
     ]
    }
   ],
   "source": [
    "import pandas as pd\n",
    "import numpy as np\n",
    "\n",
    "# Create a Pandas Series with 5 random text strings\n",
    "data = ['apple', 'banana', 'cherry', 'date', 'elderberry']\n",
    "series = pd.Series(data)\n",
    "\n",
    "print(\"Original Series:\\n\", series)\n",
    "\n",
    "# Convert all strings to uppercase\n",
    "uppercase_series = series.str.upper()\n",
    "\n",
    "print(\"\\nSeries with Uppercase Strings:\\n\", uppercase_series)"
   ]
  },
  {
   "cell_type": "code",
   "execution_count": 10,
   "metadata": {},
   "outputs": [
    {
     "name": "stdout",
     "output_type": "stream",
     "text": [
      "Original Series:\n",
      " 0         apple\n",
      "1        banana\n",
      "2        cherry\n",
      "3          date\n",
      "4    elderberry\n",
      "dtype: object\n",
      "\n",
      "First Three Characters of Each String:\n",
      " 0    app\n",
      "1    ban\n",
      "2    che\n",
      "3    dat\n",
      "4    eld\n",
      "dtype: object\n"
     ]
    }
   ],
   "source": [
    "import pandas as pd\n",
    "import numpy as np\n",
    "\n",
    "# Create a Pandas Series with 5 random text strings\n",
    "data = ['apple', 'banana', 'cherry', 'date', 'elderberry']\n",
    "series = pd.Series(data)\n",
    "\n",
    "print(\"Original Series:\\n\", series)\n",
    "\n",
    "# Extract the first three characters of each string\n",
    "first_three_chars = series.str[:3]\n",
    "\n",
    "print(\"\\nFirst Three Characters of Each String:\\n\", first_three_chars)\n"
   ]
  }
 ],
 "metadata": {
  "kernelspec": {
   "display_name": "Python 3",
   "language": "python",
   "name": "python3"
  },
  "language_info": {
   "codemirror_mode": {
    "name": "ipython",
    "version": 3
   },
   "file_extension": ".py",
   "mimetype": "text/x-python",
   "name": "python",
   "nbconvert_exporter": "python",
   "pygments_lexer": "ipython3",
   "version": "3.12.5"
  }
 },
 "nbformat": 4,
 "nbformat_minor": 2
}
