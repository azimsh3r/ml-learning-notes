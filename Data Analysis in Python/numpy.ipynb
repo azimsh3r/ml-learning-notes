{
 "cells": [
  {
   "cell_type": "markdown",
   "metadata": {},
   "source": [
    "# Numpy"
   ]
  },
  {
   "cell_type": "markdown",
   "metadata": {},
   "source": [
    "NumPy is a fundamental library for scientific computing in Python. It provides support for arrays and matrices, along with the collection of mathematical functions to operate on these data structures."
   ]
  },
  {
   "cell_type": "code",
   "execution_count": 2,
   "metadata": {},
   "outputs": [
    {
     "name": "stdout",
     "output_type": "stream",
     "text": [
      "Defaulting to user installation because normal site-packages is not writeable\n",
      "Requirement already satisfied: numpy in c:\\users\\azim\\appdata\\roaming\\python\\python312\\site-packages (2.2.3)\n",
      "Note: you may need to restart the kernel to use updated packages.\n"
     ]
    },
    {
     "name": "stderr",
     "output_type": "stream",
     "text": [
      "\n",
      "[notice] A new release of pip is available: 24.2 -> 25.0.1\n",
      "[notice] To update, run: python.exe -m pip install --upgrade pip\n"
     ]
    }
   ],
   "source": [
    "%pip install numpy"
   ]
  },
  {
   "cell_type": "code",
   "execution_count": 3,
   "metadata": {},
   "outputs": [],
   "source": [
    "import numpy as np"
   ]
  },
  {
   "cell_type": "code",
   "execution_count": null,
   "metadata": {},
   "outputs": [
    {
     "name": "stdout",
     "output_type": "stream",
     "text": [
      "[1 2 3 4 5]\n",
      "<class 'numpy.ndarray'>\n",
      "(5,)\n"
     ]
    }
   ],
   "source": [
    "## create an 1D array\n",
    "arr1=np.array([1,2,3,4,5])\n",
    "\n",
    "print(arr1)\n",
    "print(type(arr1))\n",
    "print(arr1.shape)"
   ]
  },
  {
   "cell_type": "code",
   "execution_count": null,
   "metadata": {},
   "outputs": [
    {
     "data": {
      "text/plain": [
       "array([[1, 2, 3, 4, 5]])"
      ]
     },
     "execution_count": 9,
     "metadata": {},
     "output_type": "execute_result"
    }
   ],
   "source": [
    "arr2=np.array([1,2,3,4,5])\n",
    "\n",
    "#reshapes into 2D (1 row and 5 columns)\n",
    "arr2.reshape((1,5))"
   ]
  },
  {
   "cell_type": "markdown",
   "metadata": {},
   "source": [
    "another way to create 2D array"
   ]
  },
  {
   "cell_type": "code",
   "execution_count": 15,
   "metadata": {},
   "outputs": [
    {
     "name": "stdout",
     "output_type": "stream",
     "text": [
      "(2, 5)\n",
      "[[ 1  2  3  4  5]\n",
      " [12  3  4  2  4]]\n"
     ]
    }
   ],
   "source": [
    "arr2=np.array([[1,2,3,4,5], [12,3,4,2,4]])\n",
    "\n",
    "print(arr2.shape)\n",
    "print(arr2)"
   ]
  },
  {
   "cell_type": "code",
   "execution_count": 17,
   "metadata": {},
   "outputs": [
    {
     "data": {
      "text/plain": [
       "array([[0],\n",
       "       [2],\n",
       "       [4],\n",
       "       [6],\n",
       "       [8]])"
      ]
     },
     "execution_count": 17,
     "metadata": {},
     "output_type": "execute_result"
    }
   ],
   "source": [
    "#start, end (exclusive), step\n",
    "np.arange(0, 10, 2).reshape(5, 1)"
   ]
  },
  {
   "cell_type": "code",
   "execution_count": 18,
   "metadata": {},
   "outputs": [
    {
     "data": {
      "text/plain": [
       "array([[1., 1., 1., 1.],\n",
       "       [1., 1., 1., 1.],\n",
       "       [1., 1., 1., 1.]])"
      ]
     },
     "execution_count": 18,
     "metadata": {},
     "output_type": "execute_result"
    }
   ],
   "source": [
    "np.ones((3, 4))"
   ]
  },
  {
   "cell_type": "code",
   "execution_count": 19,
   "metadata": {},
   "outputs": [
    {
     "data": {
      "text/plain": [
       "array([[1., 0., 0.],\n",
       "       [0., 1., 0.],\n",
       "       [0., 0., 1.]])"
      ]
     },
     "execution_count": 19,
     "metadata": {},
     "output_type": "execute_result"
    }
   ],
   "source": [
    "##identity matrix\n",
    "np.eye(3)"
   ]
  },
  {
   "cell_type": "code",
   "execution_count": 21,
   "metadata": {},
   "outputs": [
    {
     "name": "stdout",
     "output_type": "stream",
     "text": [
      "Array:\n",
      " [[1 2 3]\n",
      " [4 5 6]]\n",
      "Shape: (2, 3)\n",
      "Number of dimensions: 2\n",
      "Size (number of elements): 6\n",
      "Data Type: int64\n",
      "Item size (in bytes): 8\n"
     ]
    }
   ],
   "source": [
    "arr = np.array([[1,2,3], [4,5,6]])\n",
    "\n",
    "print(\"Array:\\n\", arr)\n",
    "print(\"Shape:\", arr.shape)\n",
    "print(\"Number of dimensions:\", arr.ndim)\n",
    "print(\"Size (number of elements):\", arr.size)\n",
    "print(\"Data Type:\", arr.dtype)\n",
    "print(\"Item size (in bytes):\", arr.itemsize)\n"
   ]
  },
  {
   "cell_type": "code",
   "execution_count": 24,
   "metadata": {},
   "outputs": [
    {
     "name": "stdout",
     "output_type": "stream",
     "text": [
      "Addition: [11 22 33 44 55]\n",
      "Subtraction [ -9 -18 -27 -36 -45]\n",
      "Element-wise Multiplication [ 10  40  90 160 250]\n",
      "Element-wise Division: [0.1 0.1 0.1 0.1 0.1]\n"
     ]
    }
   ],
   "source": [
    "###Numpy Vectorized Operation\n",
    "arr1 = np.array([1,2,3,4,5])\n",
    "arr2 = np.array([10,20,30,40,50])\n",
    "\n",
    "print(\"Addition:\", arr1 + arr2)\n",
    "print(\"Subtraction\", arr1 - arr2)\n",
    "print(\"Element-wise Multiplication\", arr1 * arr2)\n",
    "print(\"Element-wise Division:\", arr1 / arr2)"
   ]
  },
  {
   "cell_type": "code",
   "execution_count": 27,
   "metadata": {},
   "outputs": [
    {
     "name": "stdout",
     "output_type": "stream",
     "text": [
      "[1.41421356 1.73205081 2.         2.23606798 2.44948974]\n",
      "[  7.3890561   20.08553692  54.59815003 148.4131591  403.42879349]\n",
      "[ 0.90929743  0.14112001 -0.7568025  -0.95892427 -0.2794155 ]\n",
      "[0.69314718 1.09861229 1.38629436 1.60943791 1.79175947]\n"
     ]
    }
   ],
   "source": [
    "\n",
    "arr = np.array([2,3,4,5,6])\n",
    "\n",
    "## square root\n",
    "print(np.sqrt(arr))\n",
    "\n",
    "## Exponential\n",
    "print(np.exp(arr))\n",
    "\n",
    "## Sine\n",
    "print(np.sin(arr))\n",
    "\n",
    "## natural log\n",
    "print(np.log(arr))"
   ]
  },
  {
   "cell_type": "code",
   "execution_count": null,
   "metadata": {},
   "outputs": [
    {
     "name": "stdout",
     "output_type": "stream",
     "text": [
      "Array:\n",
      " [[ 1  2  3  4]\n",
      " [ 5  6  7  8]\n",
      " [ 9 10 11 12]]\n"
     ]
    }
   ],
   "source": [
    "## Universal Functions(ufuncs)\n",
    "\n",
    "## Array slicing and indexing\n",
    "arr = np.array([[1,2,3,4], [5,6,7,8], [9,10,11,12]])\n",
    "print(\"Array:\\n\", arr)"
   ]
  },
  {
   "cell_type": "code",
   "execution_count": 30,
   "metadata": {},
   "outputs": [
    {
     "data": {
      "text/plain": [
       "np.int64(1)"
      ]
     },
     "execution_count": 30,
     "metadata": {},
     "output_type": "execute_result"
    }
   ],
   "source": [
    "arr[0][0]"
   ]
  },
  {
   "cell_type": "code",
   "execution_count": 33,
   "metadata": {},
   "outputs": [
    {
     "data": {
      "text/plain": [
       "array([[ 7,  8],\n",
       "       [11, 12]])"
      ]
     },
     "execution_count": 33,
     "metadata": {},
     "output_type": "execute_result"
    }
   ],
   "source": [
    "arr[1:, 2:]"
   ]
  },
  {
   "cell_type": "code",
   "execution_count": 36,
   "metadata": {},
   "outputs": [
    {
     "data": {
      "text/plain": [
       "array([[100,   2,   3,   4],\n",
       "       [100, 100, 100, 100],\n",
       "       [100, 100, 100, 100]])"
      ]
     },
     "execution_count": 36,
     "metadata": {},
     "output_type": "execute_result"
    }
   ],
   "source": [
    "## Modify array elements\n",
    "arr[0][0] = 100\n",
    "\n",
    "arr[1:] = 100\n",
    "arr"
   ]
  },
  {
   "cell_type": "code",
   "execution_count": 37,
   "metadata": {},
   "outputs": [
    {
     "name": "stdout",
     "output_type": "stream",
     "text": [
      "[-1.41421356 -0.70710678  0.          0.70710678  1.41421356]\n"
     ]
    }
   ],
   "source": [
    "## Statistical concepts\n",
    "## to have mean of 0, standard deviation of 1\n",
    "data = np.array([1,2,3,4,5])\n",
    "\n",
    "mean = np.mean(data)\n",
    "std_dev = np.std(data)\n",
    "\n",
    "# Normalize the data\n",
    "normalized_data = (data - mean) / std_dev\n",
    "print(normalized_data)"
   ]
  },
  {
   "cell_type": "code",
   "execution_count": 42,
   "metadata": {},
   "outputs": [
    {
     "data": {
      "text/plain": [
       "array([6, 7])"
      ]
     },
     "execution_count": 42,
     "metadata": {},
     "output_type": "execute_result"
    }
   ],
   "source": [
    "## Logical Operations\n",
    "data = np.array([1,2,3,4,5,6,7,8,9,10])\n",
    "\n",
    "data[(data > 5) & (data < 8)]"
   ]
  },
  {
   "cell_type": "markdown",
   "metadata": {},
   "source": [
    "# Assignments"
   ]
  },
  {
   "cell_type": "markdown",
   "metadata": {},
   "source": [
    "Assignment 1: Array Creation and Manipulation\n",
    "\n",
    "1. Create a NumPy array of shape (5, 5) filled with random integers between 1 and 20. Replace all the elements in the third column with 1.\n",
    "2. Create a NumPy array of shape (4, 4) with values from 1 to 16. Replace the diagonal elements with 0."
   ]
  },
  {
   "cell_type": "code",
   "execution_count": 53,
   "metadata": {},
   "outputs": [
    {
     "name": "stdout",
     "output_type": "stream",
     "text": [
      "Array1:\n",
      " [[11  8  2  7 18]\n",
      " [18  2 20  7  2]\n",
      " [16  5  8 19 20]\n",
      " [ 5  2 12  6 14]\n",
      " [15 17 16  2 18]]\n",
      "Array2:\n",
      " [[ 0  2  3  4]\n",
      " [ 5  0  7  8]\n",
      " [ 9 10  0 12]\n",
      " [13 14 15  0]]\n"
     ]
    }
   ],
   "source": [
    "arr1 = np.random.randint(1, 21, size=(5, 5))\n",
    "\n",
    "arr2 = np.arange(1, 17).reshape(4,4)\n",
    "\n",
    "#filling diagonals with some value\n",
    "np.fill_diagonal(arr2, 0)\n",
    "\n",
    "print(\"Array1:\\n\", arr1)\n",
    "print(\"Array2:\\n\", arr2)"
   ]
  },
  {
   "cell_type": "markdown",
   "metadata": {},
   "source": [
    "Assignment 2: Array Indexing and Slicing\n",
    "\n",
    "1. Create a NumPy array of shape (6, 6) with values from 1 to 36. Extract the sub-array consisting of the 3rd to 5th rows and 2nd to 4th columns.\n",
    "2. Create a NumPy array of shape (5, 5) with random integers. Extract the elements on the border."
   ]
  },
  {
   "cell_type": "code",
   "execution_count": 76,
   "metadata": {},
   "outputs": [
    {
     "name": "stdout",
     "output_type": "stream",
     "text": [
      "Original Array\n",
      " [[ 1  2  3  4  5  6]\n",
      " [ 7  8  9 10 11 12]\n",
      " [13 14 15 16 17 18]\n",
      " [19 20 21 22 23 24]\n",
      " [25 26 27 28 29 30]\n",
      " [31 32 33 34 35 36]]\n",
      "Slice:\n",
      " [[14 15 16]\n",
      " [20 21 22]\n",
      " [26 27 28]]\n",
      "Random Array:\n",
      " [[-1303374731   763365184   697189116  -337396404 -1770570911]\n",
      " [  373539608   770958830  -692978113  1626186953  1290094041]\n",
      " [   42519158 -1588008219  -381756962   299512468  1023660997]\n",
      " [ -611669887  -901752424 -1570131960  -159642157  -976011731]\n",
      " [ -239241651   213543669 -1786291413  1117156898 -2035753637]]\n",
      "top_border: [[-1303374731   763365184   697189116  -337396404 -1770570911]]\n",
      "left_border: [[-1303374731]\n",
      " [  373539608]\n",
      " [   42519158]\n",
      " [ -611669887]\n",
      " [ -239241651]]\n",
      "bottom_border: [[ -239241651   213543669 -1786291413  1117156898 -2035753637]]\n",
      "right_border [[-1770570911]\n",
      " [ 1290094041]\n",
      " [ 1023660997]\n",
      " [ -976011731]\n",
      " [-2035753637]]\n"
     ]
    }
   ],
   "source": [
    "arr1 = np.arange(1,37,1).reshape(6,6)\n",
    "\n",
    "print(\"Original Array\\n\", arr1)\n",
    "print(\"Slice:\\n\", arr1[2:5, 1:4])\n",
    "\n",
    "arr2 = np.random.randint(-np.iinfo(np.int32).max, np.iinfo(np.int32).max, size=(5, 5))\n",
    "print(\"Random Array:\\n\", arr2)\n",
    "\n",
    "top_border = arr2[0:1,:]\n",
    "print(\"top_border:\", top_border)\n",
    "\n",
    "left_border = arr2[:, 0:1]\n",
    "print(\"left_border:\", left_border)\n",
    "\n",
    "bottom_border = arr2[-1:,:]\n",
    "print(\"bottom_border:\", bottom_border)\n",
    "\n",
    "right_border = arr2[:, -1:]\n",
    "print(\"right_border\", right_border)"
   ]
  },
  {
   "cell_type": "markdown",
   "metadata": {},
   "source": [
    "Assignment 3: Array Operations\n",
    "\n",
    "1. Create two NumPy arrays of shape (3, 4) filled with random integers. Perform element-wise addition, subtraction, multiplication, and division.\n",
    "2. Create a NumPy array of shape (4, 4) with values from 1 to 16. Compute the row-wise and column-wise sum."
   ]
  },
  {
   "cell_type": "code",
   "execution_count": 79,
   "metadata": {},
   "outputs": [
    {
     "name": "stdout",
     "output_type": "stream",
     "text": [
      "Array1\n",
      " [[1392304814 1923903304 -145130743 1647421074]\n",
      " [-176294591  825233510 1563523280  347598962]\n",
      " [ 314471440  961653475 -384320969 1494338838]]\n",
      "Array2\n",
      " [[-1457243318 -1522414555  1495261652 -1421002302]\n",
      " [  695855062 -1829300911  1911745451  1208090990]\n",
      " [-1945717698   517524233  1700157411   896973924]]\n",
      "Element-wise addition:\n",
      " [[  -64938504   401488749  1350130909   226418772]\n",
      " [  519560471 -1004067401  -819698565  1555689952]\n",
      " [-1631246258  1479177708  1315836442 -1903654534]]\n",
      "Element-wise subtraction:\n",
      " [[-1445419164  -848649437 -1640392395 -1226543920]\n",
      " [ -872149653 -1640432875  -348222171  -860492028]\n",
      " [-2034778158   444129242 -2084478380   597364914]]\n",
      "Element-wise multiplication:\n",
      " [[   63938636 -1528728216 -2108437388   396410020]\n",
      " [  877767510  2146930246 -1366121744 -1881292036]\n",
      " [ -333751328 -1880554757    30199749  -206289768]]\n",
      "Element-wise division:\n",
      " [[-0.95543743 -1.26371841 -0.09706043 -1.15933737]\n",
      " [-0.25334958 -0.45111961  0.81785118  0.28772581]\n",
      " [-0.16162234  1.85818057 -0.22605023  1.66597802]]\n"
     ]
    }
   ],
   "source": [
    "arr1 = np.random.randint(-np.iinfo(np.int32).max, np.iinfo(np.int32).max, size=(3, 4))\n",
    "arr2 = np.random.randint(-np.iinfo(np.int32).max, np.iinfo(np.int32).max, size=(3, 4))\n",
    "\n",
    "print(\"Array1\\n\", arr1)\n",
    "print(\"Array2\\n\", arr2)\n",
    "\n",
    "print(\"Element-wise addition:\\n\", arr1+arr2)\n",
    "print(\"Element-wise subtraction:\\n\", arr1-arr2)\n",
    "print(\"Element-wise multiplication:\\n\", arr1*arr2)\n",
    "print(\"Element-wise division:\\n\", arr1 / arr2)    "
   ]
  },
  {
   "cell_type": "code",
   "execution_count": 85,
   "metadata": {},
   "outputs": [
    {
     "name": "stdout",
     "output_type": "stream",
     "text": [
      "Column-wise sum:\n",
      " [28 32 36 40]\n",
      "Row-wise sum:\n",
      " [10 26 42 58]\n"
     ]
    }
   ],
   "source": [
    "arr = np.arange(1,17,1).reshape(4,4)\n",
    "\n",
    "print(\"Column-wise sum:\\n\", np.sum(arr, axis=0))\n",
    "\n",
    "print(\"Row-wise sum:\\n\", np.sum(arr, axis=1))"
   ]
  },
  {
   "cell_type": "markdown",
   "metadata": {},
   "source": [
    "Assignment 4: Statistical Operations\n",
    "\n",
    "1. Create a NumPy array of shape (5, 5) filled with random integers. Compute the mean, median, standard deviation, and variance of the array.\n",
    "2. Create a NumPy array of shape (3, 3) with values from 1 to 9. Normalize the array (i.e., scale the values to have a mean of 0 and a standard deviation of 1)."
   ]
  },
  {
   "cell_type": "code",
   "execution_count": 91,
   "metadata": {},
   "outputs": [
    {
     "name": "stdout",
     "output_type": "stream",
     "text": [
      "Array:\n",
      " [[ -273107195  1274775358  1483765372  -587427976  1792185066]\n",
      " [ 1518915848   -39355780  -942609437  -118933018  -224235339]\n",
      " [-1432315315  1111759899   423525844  1453865245  2070313548]\n",
      " [-1390701724   525076888 -1867056357 -1867434649  -543360225]\n",
      " [  864644595  1006815007  1544988670  1646675906  1531230970]]\n",
      "Mean: 358480048.04\n",
      "Standard Deviation: 1200943334.3303328\n",
      "Variance: 1.4422648922724575e+18\n"
     ]
    }
   ],
   "source": [
    "arr = np.random.randint(-np.iinfo(np.int32).max, np.iinfo(np.int32).max, size=(5, 5))\n",
    "\n",
    "print(\"Array:\\n\", arr)\n",
    "print(\"Mean:\", np.mean(arr))\n",
    "print(\"Standard Deviation:\", np.std(arr))\n",
    "print(\"Variance:\", np.var(arr))"
   ]
  },
  {
   "cell_type": "code",
   "execution_count": 92,
   "metadata": {},
   "outputs": [
    {
     "name": "stdout",
     "output_type": "stream",
     "text": [
      "[[-1.54919334 -1.161895   -0.77459667]\n",
      " [-0.38729833  0.          0.38729833]\n",
      " [ 0.77459667  1.161895    1.54919334]]\n"
     ]
    }
   ],
   "source": [
    "arr = np.arange(1, 10, 1).reshape(3,3)\n",
    "\n",
    "mean = np.mean(arr)\n",
    "std_dev = np.std(arr)\n",
    "\n",
    "normalized_data = (arr - mean) / std_dev\n",
    "\n",
    "print(normalized_data)"
   ]
  },
  {
   "cell_type": "markdown",
   "metadata": {},
   "source": [
    "Assignment 5: Broadcasting\n",
    "\n",
    "1. Create a NumPy array of shape (3, 3) filled with random integers. Add a 1D array of shape (3,) to each row of the 2D array using broadcasting.\n",
    "2. Create a NumPy array of shape (4, 4) filled with random integers. Subtract a 1D array of shape (4,) from each column of the 2D array using broadcasting."
   ]
  },
  {
   "cell_type": "code",
   "execution_count": 126,
   "metadata": {},
   "outputs": [
    {
     "name": "stdout",
     "output_type": "stream",
     "text": [
      "Original 3x3 Array:\n",
      " [[19  3  1]\n",
      " [16 17  1]\n",
      " [ 3 19  2]]\n",
      "\n",
      "1D Array to add to each row: [3 3 4]\n",
      "\n",
      "Result after broadcasting addition:\n",
      " [[22  6  4]\n",
      " [19 20  4]\n",
      " [ 7 23  6]]\n"
     ]
    }
   ],
   "source": [
    "import numpy as np\n",
    "\n",
    "# Task 1: Add a 1D array to each row of a 2D array using broadcasting\n",
    "arr_3x3 = np.random.randint(1, 21, size=(3, 3))  # 3x3 array of random integers\n",
    "array_1d_3 = np.random.randint(1, 21, size=(3,))  # 1D array of shape (3,)\n",
    "\n",
    "# Broadcasting: Add the 1D array to each row of the 2D array\n",
    "result_1 = arr_3x3 + array_1d_3[:, np.newaxis]  # Adding with broadcasting\n",
    "\n",
    "print(\"Original 3x3 Array:\\n\", arr_3x3)\n",
    "print(\"\\n1D Array to add to each row:\", array_1d_3)\n",
    "print(\"\\nResult after broadcasting addition:\\n\", result_1)"
   ]
  },
  {
   "cell_type": "code",
   "execution_count": 127,
   "metadata": {},
   "outputs": [
    {
     "name": "stdout",
     "output_type": "stream",
     "text": [
      "\n",
      "Original 4x4 Array:\n",
      " [[20 18 18 17]\n",
      " [12  2 18  7]\n",
      " [ 6  5 11 11]\n",
      " [ 5 10  2  3]]\n",
      "\n",
      "1D Array to subtract from each column: [14 20  9  2]\n",
      "\n",
      "Result after broadcasting subtraction:\n",
      " [[  6  -2   9  15]\n",
      " [ -2 -18   9   5]\n",
      " [ -8 -15   2   9]\n",
      " [ -9 -10  -7   1]]\n"
     ]
    }
   ],
   "source": [
    "arr_4x4 = np.random.randint(1, 21, size=(4, 4))  # 4x4 array of random integers\n",
    "array_1d_4 = np.random.randint(1, 21, size=(4,))  # 1D array of shape (4,)\n",
    "\n",
    "# Broadcasting: Subtract the 1D array from each column of the 2D array\n",
    "result_2 = arr_4x4 - array_1d_4  # Broadcasting subtraction\n",
    "\n",
    "print(\"\\nOriginal 4x4 Array:\\n\", arr_4x4)\n",
    "print(\"\\n1D Array to subtract from each column:\", array_1d_4)\n",
    "print(\"\\nResult after broadcasting subtraction:\\n\", result_2)"
   ]
  },
  {
   "cell_type": "markdown",
   "metadata": {},
   "source": [
    "Assignment 6: Linear Algebra\n",
    "\n",
    "1. Create a NumPy array of shape (3, 3) representing a matrix. Compute its determinant, inverse, and eigenvalues.\n",
    "2. Create two NumPy arrays of shape (2, 3) and (3, 2). Perform matrix multiplication on these arrays."
   ]
  },
  {
   "cell_type": "code",
   "execution_count": 103,
   "metadata": {},
   "outputs": [
    {
     "name": "stdout",
     "output_type": "stream",
     "text": [
      "Matrix:\n",
      " [[-1263063781  -172636510  -499130793]\n",
      " [-1733137189  1656905145  1551829972]\n",
      " [-2116729957   -55661253 -1886776942]]\n",
      "Inverse:\n",
      " [[-9.58213328e-10 -9.39177186e-11  1.76242056e-10]\n",
      " [-2.06621275e-09  4.18167803e-10  8.90532261e-10]\n",
      " [ 1.13595137e-09  9.30277982e-11 -7.53997439e-10]]\n",
      "Determinant:\n",
      " 3.172397558101025e+27\n",
      "eigenvalues:\n",
      " [ 1.79017370e+09 -6.81042033e+08 -2.60206725e+09]\n"
     ]
    }
   ],
   "source": [
    "matrix = np.random.randint(-np.iinfo(np.int32).max, np.iinfo(np.int32).max, size=(3,3))\n",
    "\n",
    "inverse_matrix = np.linalg.inv(matrix)\n",
    "determinant = np.linalg.det(matrix)\n",
    "eigenvalues = np.linalg.eigvals(matrix)\n",
    "\n",
    "print(\"Matrix:\\n\", matrix)\n",
    "print(\"Inverse:\\n\", inverse_matrix)\n",
    "print(\"Determinant:\\n\", determinant)\n",
    "print(\"eigenvalues:\\n\", eigenvalues)"
   ]
  },
  {
   "cell_type": "code",
   "execution_count": 105,
   "metadata": {},
   "outputs": [
    {
     "name": "stdout",
     "output_type": "stream",
     "text": [
      "m1:\n",
      " [[ 8  4  8]\n",
      " [-9  4 -6]]\n",
      "m2:\n",
      " [[  5   9]\n",
      " [  7   8]\n",
      " [ -7 -10]]\n",
      "result:\n",
      " [[12 24]\n",
      " [25 11]]\n"
     ]
    }
   ],
   "source": [
    "m1 = np.random.randint(-10, 10, size=(2,3))\n",
    "m2 = np.random.randint(-10, 10, size=(3,2))\n",
    "\n",
    "print(\"m1:\\n\", m1)\n",
    "print(\"m2:\\n\", m2)\n",
    "\n",
    "result = m1 @ m2\n",
    "print(\"result:\\n\", result)\n"
   ]
  },
  {
   "cell_type": "markdown",
   "metadata": {},
   "source": [
    "Assignment 7: Advanced Array Manipulation\n",
    "\n",
    "1. Create a NumPy array of shape (3, 3) with values from 1 to 9. Reshape the array to shape (1, 9) and then to shape (9, 1).\n",
    "2. Create a NumPy array of shape (5, 5) filled with random integers. Flatten the array and then reshape it back to (5, 5)."
   ]
  },
  {
   "cell_type": "code",
   "execution_count": 109,
   "metadata": {},
   "outputs": [
    {
     "name": "stdout",
     "output_type": "stream",
     "text": [
      "3:3\n",
      " [[1 2 3]\n",
      " [4 5 6]\n",
      " [7 8 9]]\n",
      "1:9\n",
      " [[1 2 3 4 5 6 7 8 9]]\n",
      "9:1\n",
      " [[1]\n",
      " [2]\n",
      " [3]\n",
      " [4]\n",
      " [5]\n",
      " [6]\n",
      " [7]\n",
      " [8]\n",
      " [9]]\n"
     ]
    }
   ],
   "source": [
    "arr = np.arange(1, 10, 1).reshape(3,3)\n",
    "print(\"3:3\\n\", arr)\n",
    "\n",
    "arr = arr.reshape((1,9))\n",
    "print(\"1:9\\n\", arr)\n",
    "\n",
    "arr = arr.reshape((9,1))\n",
    "print(\"9:1\\n\", arr)"
   ]
  },
  {
   "cell_type": "code",
   "execution_count": 117,
   "metadata": {},
   "outputs": [
    {
     "name": "stdout",
     "output_type": "stream",
     "text": [
      "Original Arr:\n",
      " [[  -57145250  -505759337    52301300  -986130021 -1919161908]\n",
      " [ -236214743   -28002863   223925847  1039725018   983128057]\n",
      " [ 1000837498 -1000909923  1719300341  -309486186 -1096755286]\n",
      " [  180492329  -592484875 -2025735626  1959444823  1878749847]\n",
      " [ -988222231  1493084145  2111242279  1634051157  -639133653]]\n",
      "Flattened:\n",
      " [[  -57145250  -505759337    52301300  -986130021 -1919161908  -236214743\n",
      "    -28002863   223925847  1039725018   983128057  1000837498 -1000909923\n",
      "   1719300341  -309486186 -1096755286   180492329  -592484875 -2025735626\n",
      "   1959444823  1878749847  -988222231  1493084145  2111242279  1634051157\n",
      "   -639133653]]\n",
      "Back to 5:5\n",
      " [[  -57145250  -505759337    52301300  -986130021 -1919161908]\n",
      " [ -236214743   -28002863   223925847  1039725018   983128057]\n",
      " [ 1000837498 -1000909923  1719300341  -309486186 -1096755286]\n",
      " [  180492329  -592484875 -2025735626  1959444823  1878749847]\n",
      " [ -988222231  1493084145  2111242279  1634051157  -639133653]]\n"
     ]
    }
   ],
   "source": [
    "arr = np.random.randint(-np.iinfo(np.int32).max, np.iinfo(np.int32).max, size=(5,5))\n",
    "\n",
    "print(\"Original Arr:\\n\", arr)\n",
    "\n",
    "print(\"Flattened:\\n\", arr.reshape(1, arr.size))\n",
    "\n",
    "print(\"Back to 5:5\\n\", arr.reshape(5,5))"
   ]
  },
  {
   "cell_type": "markdown",
   "metadata": {},
   "source": [
    "Assignment 8: Fancy Indexing and Boolean Indexing\n",
    "\n",
    "1. Create a NumPy array of shape (5, 5) filled with random integers. Use fancy indexing to extract the elements at the corners of the array.\n",
    "2. Create a NumPy array of shape (4, 4) filled with random integers. Use boolean indexing to set all elements greater than 10 to 10."
   ]
  },
  {
   "cell_type": "code",
   "execution_count": 120,
   "metadata": {},
   "outputs": [
    {
     "name": "stdout",
     "output_type": "stream",
     "text": [
      "Array:\n",
      " [[  685246136    -3612451  1114438486  -869753112 -1247612276]\n",
      " [  895643287  1604143500  -382641505 -1315419771 -1663688202]\n",
      " [ -780180504   -72486268 -1692075914   696231832   611449832]\n",
      " [  165902780 -1270884243   -37932181   -30178302  1021383135]\n",
      " [ -503282375 -1260307046 -1411395071  1731306584 -1095809188]]\n",
      "\n",
      "Corner elements: [  685246136 -1247612276  -503282375 -1095809188]\n"
     ]
    }
   ],
   "source": [
    "arr = np.random.randint(-np.iinfo(np.int32).max, np.iinfo(np.int32).max, size=(5,5))\n",
    "\n",
    "print(\"Array:\\n\", arr)\n",
    "\n",
    "corners = arr[[0, 0, -1, -1], [0, -1, 0, -1]]\n",
    "\n",
    "print(\"\\nCorner elements:\", corners)"
   ]
  },
  {
   "cell_type": "code",
   "execution_count": 121,
   "metadata": {},
   "outputs": [
    {
     "name": "stdout",
     "output_type": "stream",
     "text": [
      "Original:\n",
      " [[ -745299680   246253995 -1732959706 -1843496699]\n",
      " [  516410467   971370548  1309869844   909821499]\n",
      " [ 1892030724 -1033650281   506196940  1570463213]\n",
      " [-1511968859 -1114560560 -1366197825 -2031869500]]\n",
      "Modified:\n",
      " [[ -745299680          10 -1732959706 -1843496699]\n",
      " [         10          10          10          10]\n",
      " [         10 -1033650281          10          10]\n",
      " [-1511968859 -1114560560 -1366197825 -2031869500]]\n"
     ]
    }
   ],
   "source": [
    "arr = np.random.randint(-np.iinfo(np.int32).max, np.iinfo(np.int32).max, size=(4,4))\n",
    "\n",
    "print(\"Original:\\n\", arr)\n",
    "\n",
    "arr[arr > 10] = 10\n",
    "\n",
    "print(\"Modified:\\n\", arr)"
   ]
  },
  {
   "cell_type": "markdown",
   "metadata": {},
   "source": [
    "Assignment 9: Structured Arrays\n",
    "\n",
    "1. Create a structured array with fields 'name' (string), 'age' (integer), and 'weight' (float). Add some data and sort the array by age.\n",
    "2. Create a structured array with fields 'x' and 'y' (both integers). Add some data and compute the Euclidean distance between each pair of points."
   ]
  },
  {
   "cell_type": "code",
   "execution_count": 122,
   "metadata": {},
   "outputs": [
    {
     "name": "stdout",
     "output_type": "stream",
     "text": [
      "Original Array:\n",
      " [('Alice', 25, 55.5) ('Bob', 30, 72.3) ('Charlie', 22, 68.4)\n",
      " ('David', 28, 75. )]\n",
      "\n",
      "Sorted Array by Age:\n",
      " [('Charlie', 22, 68.4) ('Alice', 25, 55.5) ('David', 28, 75. )\n",
      " ('Bob', 30, 72.3)]\n"
     ]
    }
   ],
   "source": [
    "import numpy as np\n",
    "\n",
    "# Define a structured dtype with fields 'name', 'age', and 'weight'\n",
    "dt = np.dtype([('name', 'U10'), ('age', 'i4'), ('weight', 'f4')])\n",
    "\n",
    "# Create a structured array with some data\n",
    "arr = np.array([('Alice', 25, 55.5), \n",
    "                ('Bob', 30, 72.3), \n",
    "                ('Charlie', 22, 68.4),\n",
    "                ('David', 28, 75.0)], dtype=dt)\n",
    "\n",
    "print(\"Original Array:\\n\", arr)\n",
    "\n",
    "# Sort the array by the 'age' field\n",
    "sorted_arr = np.sort(arr, order='age')\n",
    "\n",
    "print(\"\\nSorted Array by Age:\\n\", sorted_arr)"
   ]
  },
  {
   "cell_type": "code",
   "execution_count": 123,
   "metadata": {},
   "outputs": [
    {
     "name": "stdout",
     "output_type": "stream",
     "text": [
      "Points:\n",
      " [(1, 2) (4, 6) (7, 8) (2, 3)]\n",
      "\n",
      "Euclidean Distances between points:\n",
      " [[0.         5.         8.48528137 1.41421356]\n",
      " [5.         0.         3.60555128 3.60555128]\n",
      " [8.48528137 3.60555128 0.         7.07106781]\n",
      " [1.41421356 3.60555128 7.07106781 0.        ]]\n"
     ]
    }
   ],
   "source": [
    "import numpy as np\n",
    "\n",
    "# Define a structured dtype with fields 'x' and 'y'\n",
    "dt = np.dtype([('x', 'i4'), ('y', 'i4')])\n",
    "\n",
    "# Create a structured array with some points\n",
    "arr = np.array([(1, 2), (4, 6), (7, 8), (2, 3)], dtype=dt)\n",
    "\n",
    "print(\"Points:\\n\", arr)\n",
    "\n",
    "# Function to compute Euclidean distance between two points\n",
    "def euclidean_distance(p1, p2):\n",
    "    return np.sqrt((p2['x'] - p1['x'])**2 + (p2['y'] - p1['y'])**2)\n",
    "\n",
    "# Compute Euclidean distances between each pair of points\n",
    "distances = np.zeros((len(arr), len(arr)))\n",
    "\n",
    "for i in range(len(arr)):\n",
    "    for j in range(len(arr)):\n",
    "        distances[i, j] = euclidean_distance(arr[i], arr[j])\n",
    "\n",
    "print(\"\\nEuclidean Distances between points:\\n\", distances)"
   ]
  },
  {
   "cell_type": "markdown",
   "metadata": {},
   "source": [
    "Assignment 10: Masked Arrays\n",
    "\n",
    "1. Create a masked array of shape (4, 4) with random integers and mask the elements greater than 10. Compute the sum of the unmasked elements.\n",
    "2. Create a masked array of shape (3, 3) with random integers and mask the diagonal elements. Replace the masked elements with the mean of the unmasked elements."
   ]
  },
  {
   "cell_type": "code",
   "execution_count": 124,
   "metadata": {},
   "outputs": [
    {
     "name": "stdout",
     "output_type": "stream",
     "text": [
      "Original Array:\n",
      " [[ 7 13 13 10]\n",
      " [11 10  7 15]\n",
      " [ 7 11 13  1]\n",
      " [ 3  3 11  9]]\n",
      "\n",
      "Masked Array (Elements greater than 10 are masked):\n",
      " [[7 -- -- 10]\n",
      " [-- 10 7 --]\n",
      " [7 -- -- 1]\n",
      " [3 3 -- 9]]\n",
      "\n",
      "Sum of unmasked elements: 57\n"
     ]
    }
   ],
   "source": [
    "import numpy as np\n",
    "\n",
    "# Create a 4x4 array of random integers between 1 and 20\n",
    "arr = np.random.randint(1, 21, size=(4, 4))\n",
    "\n",
    "# Create a mask for elements greater than 10\n",
    "masked_arr = np.ma.masked_greater(arr, 10)\n",
    "\n",
    "print(\"Original Array:\\n\", arr)\n",
    "print(\"\\nMasked Array (Elements greater than 10 are masked):\\n\", masked_arr)\n",
    "\n",
    "# Compute the sum of the unmasked elements\n",
    "sum_unmasked = masked_arr.sum()\n",
    "\n",
    "print(\"\\nSum of unmasked elements:\", sum_unmasked)"
   ]
  },
  {
   "cell_type": "code",
   "execution_count": 125,
   "metadata": {},
   "outputs": [
    {
     "name": "stdout",
     "output_type": "stream",
     "text": [
      "Original Array:\n",
      " [[ 5 12 10]\n",
      " [ 8  7 10]\n",
      " [ 8  1  9]]\n",
      "\n",
      "Masked Array (Diagonal elements are masked):\n",
      " [[-- 12 10]\n",
      " [8 -- 10]\n",
      " [8 1 --]]\n",
      "\n",
      "Masked Array after replacing masked elements with mean:\n",
      " [[8 12 10]\n",
      " [8 8 10]\n",
      " [8 1 8]]\n"
     ]
    }
   ],
   "source": [
    "import numpy as np\n",
    "\n",
    "# Create a 3x3 array of random integers between 1 and 20\n",
    "arr = np.random.randint(1, 21, size=(3, 3))\n",
    "\n",
    "# Create a mask for the diagonal elements (where mask is True for diagonal)\n",
    "mask = np.eye(3, dtype=bool)\n",
    "\n",
    "# Create the masked array using the mask\n",
    "masked_arr = np.ma.masked_array(arr, mask=mask)\n",
    "\n",
    "print(\"Original Array:\\n\", arr)\n",
    "print(\"\\nMasked Array (Diagonal elements are masked):\\n\", masked_arr)\n",
    "\n",
    "# Calculate the mean of the unmasked elements\n",
    "mean_unmasked = masked_arr.mean()\n",
    "\n",
    "# Replace the masked elements (diagonal) with the mean of the unmasked elements\n",
    "masked_arr[mask] = mean_unmasked\n",
    "\n",
    "print(\"\\nMasked Array after replacing masked elements with mean:\\n\", masked_arr)"
   ]
  }
 ],
 "metadata": {
  "kernelspec": {
   "display_name": "Python 3",
   "language": "python",
   "name": "python3"
  },
  "language_info": {
   "codemirror_mode": {
    "name": "ipython",
    "version": 3
   },
   "file_extension": ".py",
   "mimetype": "text/x-python",
   "name": "python",
   "nbconvert_exporter": "python",
   "pygments_lexer": "ipython3",
   "version": "3.12.5"
  }
 },
 "nbformat": 4,
 "nbformat_minor": 2
}
